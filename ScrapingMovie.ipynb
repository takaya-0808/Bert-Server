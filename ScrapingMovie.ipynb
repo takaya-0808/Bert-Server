{
 "cells": [
  {
   "cell_type": "markdown",
   "metadata": {},
   "source": [
    "# Pythonスクレイピング"
   ]
  },
  {
   "cell_type": "code",
   "execution_count": 1,
   "metadata": {},
   "outputs": [],
   "source": [
    "import requests\n",
    "from bs4 import BeautifulSoup\n",
    "import time\n",
    "\n",
    "TARGET_URL = \"https://eiga.com/movie/92746/review/\"\n",
    "\n",
    "\n",
    "html = requests.get(TARGET_URL)  # HTMLを取ってくる\n",
    "soup = BeautifulSoup(html.content, \"html.parser\")  # HTMLを解析する\n",
    "title = soup.find(\"title\")  # データを抽出する"
   ]
  },
  {
   "cell_type": "code",
   "execution_count": 2,
   "metadata": {},
   "outputs": [
    {
     "name": "stdout",
     "output_type": "stream",
     "text": [
      "<title>東京リベンジャーズのレビュー・感想・評価 - 映画.com</title>\n"
     ]
    }
   ],
   "source": [
    "print(title)"
   ]
  },
  {
   "cell_type": "code",
   "execution_count": 3,
   "metadata": {},
   "outputs": [
    {
     "name": "stdout",
     "output_type": "stream",
     "text": [
      "東京リベンジャーズのレビュー・感想・評価 - 映画.com\n"
     ]
    }
   ],
   "source": [
    "title = soup.find(\"title\").text\n",
    "print(title)"
   ]
  },
  {
   "cell_type": "code",
   "execution_count": 16,
   "metadata": {},
   "outputs": [
    {
     "name": "stdout",
     "output_type": "stream",
     "text": [
      "/movie/92746/review/all/15/\n"
     ]
    }
   ],
   "source": [
    "URLS = \"https://eiga.com/movie/92746/review/all/14\"\n",
    "html = requests.get(URLS)  # HTMLを取ってくる\n",
    "soup = BeautifulSoup(html.content, \"html.parser\")  \n",
    "\n",
    "pagination = soup.find(class_=\"next\")\n",
    "print(pagination.get(\"href\"))"
   ]
  },
  {
   "cell_type": "code",
   "execution_count": 5,
   "metadata": {
    "collapsed": true,
    "jupyter": {
     "outputs_hidden": true
    }
   },
   "outputs": [
    {
     "name": "stdout",
     "output_type": "stream",
     "text": [
      " アクションシーンは最高！迫力もあり、生々しくて大満足。ただアニメを見ていたからか全体のボリュームが物足りなく感じた。脚本としてはうまく纏めており、初めて観た人にも伝わりやすいのでは。エピソードを削ったところが目につくが、タケミチとヒナの神社のシーンはとても良かった。稀崎役の間宮さん、雰囲気があっただけに残念。続編を見たいなと感じた。 \n",
      " 原作未読。割と英勉監督作品史上最高傑作だと思う。イケメン揃いの映画に終わらない重層的な役回り、熱くなるようなシーンの数々…そして今年トップクラスと思えるラストシーン…！今までのノウハウが生きた新境地。 北村匠海演じるタケミチは、喧嘩から奴隷になった落ちこぼれニート。ある日、突き落とされたことでタイムリープする。唯一いた彼女、日向の弟と手を繋ぐとリープするというシンプルな論理は作品を単純な面白さへと誘う。 原作を知らないので、始めっからどうなるか分からなかったが、ドラケンやマイキーのかっこよさは噂通り。あれが仲間になるのは確かに心強いしアツい。二人ともビジュアルの強さが落ちていないが、これは原作改変のプロ、英監督の力量も大きいと思う。漫画原作の忠実さは『賭ケグルイ』譲りで、リアリティに『ヒロイン失格』に通ずる日向との可愛い刹那もたまらない。アクションの魅せ方も経験値がモノを言うので、かなり満足。 内容も重層的なキャストが巧みに機能する圧巻ぶりで、『羊と狼の恋と殺人』や『朝が来る』の共同脚本などを務める高橋泉氏の手腕が光る。正義を平和的に求めるタケミチは現代的なのび太のよう。それでいながら、半グレや暴力的な正義の深層へと魅せるので引き込まれる。 キャストも豪華絢爛だが、清水尋也の使い方だけビミョー。勿体ないという方が正しいか。仲良しグループからドラケンたちとのリスペクトでつながる関係、そして対峙する正義…やっぱりカッコいい。それを個々の俳優のキャラが引き立っているのも大きい。また、今田美桜の大きな瞳が紅一点、ますます可愛くみえる。やっぱり英勉監督作品史上最高傑作だと思う。もろもろ原作モノを創ってきたからこその世界観であり、『帝一の國』以来のイケメンアンサンブルに相応しい映画に仕上がっている。フジテレビ制作モノ、今年はハズレない。 \n",
      " インパクトあるシーンから開始！最後まで喧嘩三昧で興奮止まぬ。ヤンキーのタイムルリープ映画。友情の熱い感動映画。ストーリー、設定共にめっちゃ面白い！イケメン多数で格好いい！主演の北村君は喧嘩は弱くダサいけど格好いい。皆んないい！いやー、こんなに面白いとは知らなかった。本当観てよかった。最後感動！うるっとかなりきました。大、大、大満足‼️ \n",
      " 北村匠海だから磯村勇斗、吉沢亮だから山田裕貴 --- 実際の友情が実現させたキャスティング！まずビジュアル再現度の高さ。青田買いどころの騒ぎじゃない人気若手俳優共演！大好きな山田裕貴が大好きなドラケンに！稀咲と半間の活躍は乞うご期待。譲れねェもんがある。本作自体はそこまでハマらなかったけどやっぱり見たい、期待してしまう続編。東卍の傘下に下る！次は血のハロウィン(場地は菅田将暉、一虎は志尊淳？製作費圧迫)、3は天竺で。作品はあれだけど、役者の株は上がりそう。今の中高生にとって僕ら世代の『クローズ』のようになるのだろうか。双方適役、貫禄と絆。吉沢亮×山田裕貴マイキー、ドラケン。以前から感じていた山田裕貴の絶対的安心感がドラケンそのもの。揺らぐどころか、より強固なものになった。ナンバー2が板につきすぎて、本当に自分も支えてほしい、側にいてほしいと思うレベル。マジックブーツのようなもので15cmも高くしていたらしい。そんな爪先立ちのような状態でも、流石の山田裕貴、見事な立ち回りアクション。絶対的な殺陣の上手さから見て取れる身体能力高いアスリート気質も込みでハマり役すぎる。吉沢亮の普段は飄々としながらも肝心なところではしっかりと威厳・迫力を出しつつ、すごく一本気に仲間思いな部分がマイキーそのもの。注目若手共演の本作での大御所「&」ポジションも頷ける役者としての経験値をサラッと見せてくれる。仲良さそうな様子。北村匠海×磯村勇斗タケミチ、アッくん。磯村勇斗は高校生パートではきもち顔を丸くして、現代大人パートでは痩せ細って頬をこけさせる。あと、紅一点べらぼうにかわいい今田美桜。本作中での出番・出演時間を考えると、ノリノリな間宮祥太朗はまだしも清水尋也は完璧に続編ありきの配役。もちろん大事な役柄ではあるが実際出ている尺はカメオ出演のレベルで、次作以降への伏線要素。画が格好良くなく、原作よりマイキー&ドラケン辺りの強さを地に足の着いたものにすることで、実写化の見せ場として力を入れているはずのアクションはどこかモッサリ。やっぱり三池監督に撮ってほしかった。もっと素直に胸アツだったろう。半グレ集団ってパワーワード。新型コロナの流行によって延べ300日にも及んだらしい撮影。地毛でしている人はビジュアルをキープしているの大変そうな人も。全員のギャラが爆上がりしているのはもちろん、きっと続編に出たくない人もいるだろう。泣き虫のヒーロー --- 運命を殴り変える、行けるところまで行く。俺の人生クソだって分かってるよ！絵に描いたようなザ・不良が時代遅れの時代にあえて今や絶滅危惧種となった古き良き不良ヤンキー像 × タイムリープもの = 原作の抗えないワクワク感を真空パック再現できているかは定かではないけど、公開前から色々と不穏な噂が飛び交う中では頑張ったのではなかろうか。アニメも実写本作も原作における第1話に部分に力を入れているのは同じ。そりゃそうだ、ただでさえ導入部大事なのに、恐らく普通よりブッ飛んでてややこしい本コンテンツにおいてはとりわけ重要。のはずがあまり機能していなかった。君はいつも急に来るね --- ビジュアル再現度の高さと役者の頑張りに支えられているけど、セット感ある規模の小ささとアクション取り慣れていなさそうな監督。そしてやはり漫画と映画の違い。高カロリー胸アツ展開だけじゃどうにもならない共感・共通性や私事となる没入感みたいなもの。例えばそれが映画になると説明過多な脚本と演出、毎シーン毎シーン超丁寧に説明しないと気が済まない作りに。あと、SEとか音楽付けすぎでは？漫画にないオリジナルな部分を足すのは大いにあり(主にキャラクターを描き深堀りする上で)だけど、それを有意義に使うことなく、逆に原作の展開をまとめて駆け足忙しなく=薄味になっている部分もある気がした。結果、肝心のキャラクター描写がおざなりになって、感情が付いていかないまま展開を追いかけることだけに必死になる、みたいな。いまひとつ燃え切らない。タケミチの弱さを際立たせる。実際そうじゃなくても、いちいちセット感あるような閉じられた空間に薄っぺらさが気になる。 \n",
      " うだつの上がらない生活を送る27歳の男が意識だけ10年前にタイムリープして、死んだ元カノを蘇らせる為に奮闘する話。2020年7月2日、前日に元彼女とその弟が半グレ集団東京卍会の抗争に巻き込まれてトラックに轢かれて死んだことを知った主人公が、地下鉄のホームから突き落とされて電車に跳ねられたと思ったらタイムリープ？と巻き起こっていくストーリー。ヤンキー高校生が何たらの話かと思っていたら暴走族？半グレでもなく暴走族の抗争と隠謀ですか…。話というか登場人物が掴めたら非常にわかりやすいストーリーで面白かったけど、詰め込み過ぎだし、投げっぱなしや振りっぱなしが多くて???がいっぱい。続編があるんでしょうかねぇ？ \n",
      " OPのバイトシーンだけはいただけないです。あそこは後に続くようビデオ屋の店長にチクリぐらいにしとくのが吉かなと。原作が続いている限り途中での映画化って落とし所が難しいとは思うんだけどホント切りのいい落とし方だと思います。ヒナの笑顔。サイコーでした。演者がみんなかなり寄せているのに「パーちん」がもう少し大きなデブが良かったです（笑）やはり高校生設定で良かった。画的に落ち着いていると。これ中坊設定ならズレが大きくてツライ…⁈フジテレビらしい作品ですよね。だからこそ続編早く撮り始めて欲しい。ヒナの先生姿見てみたいです。 \n",
      " 尺の関係もあるのか、色々なシーンが改変･縮小されてます。あのシーンは？あのキャラは？もうこのシーン？って所がたくさん…続編がなければ終わり方雑だし、このキャラいる？ってのもある。原作が好きな人は、漫画の設定がある別のものと思って観た方がショックは少ないかもです… \n",
      " まず初めに、東京リベンジャーズという漫画は、伏線とキャラの個性、生い立ちや性格を大切にしてる物語だと自分は思ってます。それを踏まえて、リベンジ試写会で一足先に観ました。一言で言うなら『えらくサッパリとまとめちゃったな…』って感じ。それと同時に、試聴側に対して軽くジャブ打ってきてんなって思いました。『続編やるけど、こんな雰囲気で、どう？良い感じ？お？』みたいな笑。悪くはないんですけど、なんか物足りない。時間の問題もあると思いますが、原作で重要なセリフ、キャラ、シーンをかなり削ぎ落としていて、仮に続編やるとしてどう繋げるのか心配になりました。ヒナとタケミチの出会いのきっかけとかね。原作者へのリスペクトがうすくて、場面場面をブツ切りにしすぎ。いきなりシーンが変わる。例に例えるなら、武道vsキヨマサのタイマンシーンから病院までのシーン。いきなり始まってびっくり。なんでこの間にあるシーンをブツ切りしたの？笑本当にいい物語だと思うのならこういうところはカットしちゃいけないと思う。抗争シーンは、さすが大河ドラマ主演を務める吉沢亮始め、実力派の若手俳優陣たち。正直、彼等の演技力に救われていた感があります。これが某アイドル事務所タレントだったらまたかなり変わっていたと思います…おそらく続編がある終わり方なので、次回作は是非原作に忠実に綿密に、迫力のある物語をお願いしたいです。個人的には場地は菅田将暉、千冬は横浜流星辺りでお願いします！！期待の意味も込めて⭐︎3.5 \n",
      " 【7/11 追記しました】ようやく 観れた！昨年２月くらいから ずっと 楽しみにしてた 『東京リベンジャーズ』撮影が2度も延期されて、昨年10月公開予定が、今年の夏になった。その間に 漫画原作も読み、アニメも始まって、観てしまった😅一番恐れたのは 映画化して失敗作となってしまう事。馬鹿な私は YouTubeでの予告動画や 試写会を観た方々の感想などを 見なけりゃいいものを…気になってみてしまい…もう 期待より 不安いっぱいで 座席に着いた。オープニングから ドギツイ！え？ こう来る？だったけど…グイグイと映画の中に引き込まれ、終わってみれば、これはコレで あり！だと思った！良かった！確かに、原作のあちこちが無かったり、原作に無い所があったり、役者が高校生に見えない(笑)😅とか…マイキーのハイキック違う！とか 台詞違うよ〜！的な所も有って 気に入らないファンも多いかも…と思った。でも、実写映画化するには、取捨選択がどうしても必要で、原作通りには行かない。その場合 何が重要かと言えば、原作の精神？主題が表されているかどうか。この映画は、「東京リベンジャーズ」が描こうとする 主人公タケミッチのリベンジ(成長)と 友情、仲間 そして、ヒナへの想いをしっかり描いていると感じた！とにかく タケミッチが かっこいい！原作の武道より、ちょっと強気？かもしれないけど…中学生から 高校生にキャラ設定されてるから…これもありだと思った。現在パートのあっくんとのシーンは原作でも 辛いけど…とても丁寧に描かれていて 泣かせる。ヒナへの想いも 原作よりもしっかり感じられたように思う。原作のヒナより、やっぱり 少し強い印象だけど、この映画のタケミッチには お似合い！「ガンバレ～❗❗」の激励 胸に響いた！武道の今度こそ！の 傷だらけになりながらも 前を向いて仲間達を思い 闘う姿が胸を打つ！ 北村匠海さん、気持ちイイ タケミッチだった！そして、マイキーとドラケン。原作中でも、高い人気を得るキャラ。一番最初に武道の前に現れるシーンが 半年以上の延期を経て 今年 初めに撮られたそうで…吉沢亮さん 大河と二足の草鞋で 大変だったろうな。本来なら、昨年春には(東リベの)撮影が終わって 大河撮影一直線だったハズ。正直、原作のマイキーは幼さに魅力が有るので、ファンである私でも…ちょっと大人っぽい😅なと思ったけど…やっぱり、吉沢亮さん！激しいアクション 素晴らしかったし、キメる時は決めててマイキー！だった。ドラケンは本当にドラケン！山田裕貴さん ピッタリだった!! バイクシーンもかっこいい。病院の廊下でのドラケンの名台詞❗原作でも かなりグッと来る感動のシーンが観られて良かった〜😂ラストのマイキーも…続編は有るのかな？闇堕ちマイキーはずっと先までないと見られないと思ってたので、最初のシーンで 思わず、おおッ😍となった(笑) ドラゴンのtattooは そういう意味だったのね？色々 異論は有るかもしれないけど…私は 良かった！暴力やヤンキー物は苦手だけれど、「東京リベンジャーズ」が持つ熱さは大好き！この映画は 原作の熱さを感じられた！主題歌も 予告動画で何回も聴いたが、凄く この映画に合ってて とてもイイ！好きです！一つ残念だったのは エマがいなかった事。ドラケンが愛する、マイキーの大切な妹。彼女は 重要なキーパーソンなのにな…続編 無いのかな？明日は 舞台挨拶ライブビューイング付きで また観て来る予定。また追記するかもしれません。【7/10投稿】 【追記 ネタバレ含みます】昨日 二回目を鑑賞して 一度目より更に映画の良さを確認出来た！鈴木伸之さんのキヨマサ感！凄い！素の鈴木さんのイケメン感を全く消して タケミッチの超えがたい憎々しい存在感を見事に体現していた！続編には登場しないキャラだけど、鈴木さんなら別のキャラで、再登場出来るのでは？と思った。一番 ？原作と違うのは タケミッチがドラケンが死ぬ日を知らないまま 過去へタイムリープしてしまう所。そのように設定することで、メビウスにテープでグルグル巻にされたシーンでの武道とヒナのエモーショナルなやりとりを じっくり見届ける事が出来る。原作では ドラケンの危機(死ぬのは今日と分かってる)を一番知ってるハズの武道がこのシーンで、何故かモタモタしてるのが、ちょっとイライラするのだが、映画では武道は当日とはハッキリ知らない為、そんな余計なハラハラ感無しに居られる。とても良い改変だったと思った。ミツヤ(真栄田郷敦)感も 原作通り。清水尋也さんも仰ってたが、パーとメビウスのタイマン勝負のシーンで仲間(パー)の心意気に対するマイキーの信頼度がエモかった！「パー お前負けてねえよ」「武道の学校で暴れた後でドラケンがマイキーの学ランを拾い、それをノールックでマイキーが受け取る」というシーンが、いかにもマイキードラケンらしさが出ている演出と思ったが、舞台挨拶でこれが、二人のアドリブで自然に生まれたと知り、普段から仲の良さ 信頼感が感じられてエモい！（笑）次に観る時に もっとしっかり観よう！(笑)溝高5人衆が 原作よりもずっと存在感が有って、仲間感がとても良く 微笑ましかった！武道が仲間思いな部分が 魅力的に描かれていた。とにかく ハンマやキサキの伏線回収の為にも、是非 続編を作って欲しい。【7/11 投稿】【昨年春のレビュー】映画化されるという話を聞いて　即　TSUTAYAで全巻借りて読みました。あのマイキーを、吉沢さんが❣️ 楽しみ過ぎる〜〜！！アカデミー賞の時のヘアスタイルが　ちょっとだけ　14巻の大人マイキーっぽくて！！キャwwただ　これから撮影という時に　まさかのコロナ感染！撮影は延期されてるとの事。先日ＴＶで、金髪のタケミチになりきってる北村匠海さんを見て　嬉しいやら、切ないやら…。この映画は　無事　制作されるのでしょうか？今　人気の俳優さんばかりなので　延期がこのまま続けばスケジュール調整が難しくなって　制作中止なんて事態になりはしないか。心配です。人が生きるか死ぬか　それが一番大事な時世に心配することじゃないと言われる方もいらっしゃるとは思いますが、映画人も映画を作る事が生きる事だから、そして　観客である私達は　生き甲斐でもあるから。1日も早く収束して　撮影が再開されるのを祈るばかりです。 \n"
     ]
    },
    {
     "ename": "NameError",
     "evalue": "name 'l' is not defined",
     "output_type": "error",
     "traceback": [
      "\u001b[0;31m---------------------------------------------------------------------------\u001b[0m",
      "\u001b[0;31mNameError\u001b[0m                                 Traceback (most recent call last)",
      "\u001b[0;32m<ipython-input-5-81ad22fcd342>\u001b[0m in \u001b[0;36m<module>\u001b[0;34m\u001b[0m\n\u001b[1;32m      2\u001b[0m \u001b[0;32mfor\u001b[0m \u001b[0mtext\u001b[0m \u001b[0;32min\u001b[0m \u001b[0mtexts\u001b[0m\u001b[0;34m:\u001b[0m\u001b[0;34m\u001b[0m\u001b[0;34m\u001b[0m\u001b[0m\n\u001b[1;32m      3\u001b[0m     \u001b[0mprint\u001b[0m\u001b[0;34m(\u001b[0m\u001b[0mtext\u001b[0m\u001b[0;34m.\u001b[0m\u001b[0mtext\u001b[0m\u001b[0;34m)\u001b[0m\u001b[0;34m\u001b[0m\u001b[0;34m\u001b[0m\u001b[0m\n\u001b[0;32m----> 4\u001b[0;31m \u001b[0mprint\u001b[0m\u001b[0;34m(\u001b[0m\u001b[0ml\u001b[0m\u001b[0;34m[\u001b[0m\u001b[0;36m1\u001b[0m\u001b[0;34m]\u001b[0m\u001b[0;34m)\u001b[0m\u001b[0;34m\u001b[0m\u001b[0;34m\u001b[0m\u001b[0m\n\u001b[0m",
      "\u001b[0;31mNameError\u001b[0m: name 'l' is not defined"
     ]
    }
   ],
   "source": [
    "texts = soup.find_all(class_=\"txt-block\")\n",
    "for text in texts:\n",
    "    print(text.text)\n",
    "print(l[1])"
   ]
  },
  {
   "cell_type": "code",
   "execution_count": 17,
   "metadata": {},
   "outputs": [
    {
     "name": "stdout",
     "output_type": "stream",
     "text": [
      "[<span class=\"rating-star small val40\">3.8</span>, <span class=\"rating-star val45\">4.5</span>, <span class=\"rating-star val40\">4.0</span>, <span class=\"rating-star val35\">3.5</span>, <span class=\"rating-star val45\">4.5</span>, <span class=\"rating-star val30\">3.0</span>, <span class=\"rating-star val50\">5.0</span>, <span class=\"rating-star val35\">3.5</span>, <span class=\"rating-star val45\">4.5</span>, <span class=\"rating-star val40\">4.0</span>, <span class=\"rating-star val35\">3.5</span>, <span class=\"rating-star val40\">4.0</span>, <span class=\"rating-star val45\">4.5</span>, <span class=\"rating-star val40\">4.0</span>, <span class=\"rating-star val50\">5.0</span>, <span class=\"rating-star val35\">3.5</span>, <span class=\"rating-star val40\">4.0</span>, <span class=\"rating-star val00\">－</span>, <span class=\"rating-star val30\">3.0</span>, <span class=\"rating-star val35\">3.5</span>, <span class=\"rating-star val35\">3.5</span>]\n",
      "3.8\n",
      "4.5\n",
      "4.0\n",
      "3.5\n",
      "4.5\n",
      "3.0\n",
      "5.0\n",
      "3.5\n",
      "4.5\n",
      "4.0\n",
      "3.5\n",
      "4.0\n",
      "4.5\n",
      "4.0\n",
      "5.0\n",
      "3.5\n",
      "4.0\n",
      "－\n",
      "3.0\n",
      "3.5\n",
      "3.5\n"
     ]
    }
   ],
   "source": [
    "star_nums = soup.find_all(class_=\"rating-star\")\n",
    "print(star_nums)\n",
    "for num in star_nums:\n",
    "    print(num.text)"
   ]
  },
  {
   "cell_type": "code",
   "execution_count": null,
   "metadata": {},
   "outputs": [],
   "source": [
    "l"
   ]
  },
  {
   "cell_type": "markdown",
   "metadata": {},
   "source": [
    "## 本サイトのホーム先リンク"
   ]
  },
  {
   "cell_type": "code",
   "execution_count": 6,
   "metadata": {},
   "outputs": [],
   "source": [
    "target_url = \"https://eiga.com\""
   ]
  },
  {
   "cell_type": "markdown",
   "metadata": {},
   "source": [
    "## 各作品のレビュー(ホーム)"
   ]
  },
  {
   "cell_type": "code",
   "execution_count": 7,
   "metadata": {},
   "outputs": [],
   "source": [
    "urls = [\n",
    "    \"https://eiga.com/movie/92746/review/\",\n",
    "    \"https://eiga.com/movie/94166/review/\",\n",
    "    \"https://eiga.com/movie/92797/review\",\n",
    "    \"https://eiga.com/movie/94337/review/\",\n",
    "    \"https://eiga.com/movie/94206/review/\",\n",
    "    \"https://eiga.com/movie/95449/review/\",\n",
    "    \"https://eiga.com/movie/83796/review/\",\n",
    "    \"https://eiga.com/movie/90444/review/\",\n",
    "    \"https://eiga.com/movie/77989/review/\",\n",
    "    \"https://eiga.com/movie/91918/review/\"\n",
    "]"
   ]
  },
  {
   "cell_type": "markdown",
   "metadata": {},
   "source": [
    "### レビュー内容の保存先"
   ]
  },
  {
   "cell_type": "code",
   "execution_count": 20,
   "metadata": {},
   "outputs": [],
   "source": [
    "titles=[]\n",
    "reviews=[]\n",
    "star_nums=[]"
   ]
  },
  {
   "cell_type": "markdown",
   "metadata": {},
   "source": [
    "## データ取得"
   ]
  },
  {
   "cell_type": "code",
   "execution_count": null,
   "metadata": {},
   "outputs": [
    {
     "name": "stdout",
     "output_type": "stream",
     "text": [
      "https://eiga.com/movie/92746/review/all/2/\n",
      "https://eiga.com/movie/92746/review/all/3/\n",
      "https://eiga.com/movie/92746/review/all/4/\n",
      "https://eiga.com/movie/92746/review/all/5/\n",
      "https://eiga.com/movie/92746/review/all/6/\n",
      "https://eiga.com/movie/92746/review/all/7/\n",
      "https://eiga.com/movie/92746/review/all/8/\n",
      "https://eiga.com/movie/92746/review/all/9/\n",
      "https://eiga.com/movie/92746/review/all/10/\n",
      "https://eiga.com/movie/92746/review/all/11/\n",
      "https://eiga.com/movie/92746/review/all/12/\n",
      "https://eiga.com/movie/92746/review/all/13/\n",
      "https://eiga.com/movie/92746/review/all/14/\n",
      "https://eiga.com/movie/92746/review/all/15/\n",
      "https://eiga.com/movie/92746/review/all/16/\n",
      "東京リベンジャーズのレビュー・感想・評価 - 映画.com のスクリプト終了!! \n",
      "https://eiga.com/movie/94166/review/all/2/\n",
      "https://eiga.com/movie/94166/review/all/3/\n",
      "https://eiga.com/movie/94166/review/all/4/\n",
      "https://eiga.com/movie/94166/review/all/5/\n",
      "https://eiga.com/movie/94166/review/all/6/\n",
      "https://eiga.com/movie/94166/review/all/7/\n",
      "https://eiga.com/movie/94166/review/all/8/\n",
      "https://eiga.com/movie/94166/review/all/9/\n",
      "https://eiga.com/movie/94166/review/all/10/\n",
      "https://eiga.com/movie/94166/review/all/11/\n",
      "東京リベンジャーズのレビュー・感想・評価 (2) - 映画.com のスクリプト終了!! \n",
      "https://eiga.com/movie/92797/review/all/2/\n",
      "https://eiga.com/movie/92797/review/all/3/\n",
      "https://eiga.com/movie/92797/review/all/4/\n",
      "https://eiga.com/movie/92797/review/all/5/\n",
      "https://eiga.com/movie/92797/review/all/6/\n",
      "東京リベンジャーズのレビュー・感想・評価 (3) - 映画.com のスクリプト終了!! \n",
      "https://eiga.com/movie/94337/review/all/2/\n",
      "https://eiga.com/movie/94337/review/all/3/\n",
      "https://eiga.com/movie/94337/review/all/4/\n",
      "https://eiga.com/movie/94337/review/all/5/\n",
      "https://eiga.com/movie/94337/review/all/6/\n",
      "https://eiga.com/movie/94337/review/all/7/\n",
      "https://eiga.com/movie/94337/review/all/8/\n",
      "https://eiga.com/movie/94337/review/all/9/\n",
      "https://eiga.com/movie/94337/review/all/10/\n",
      "https://eiga.com/movie/94337/review/all/11/\n",
      "https://eiga.com/movie/94337/review/all/12/\n",
      "https://eiga.com/movie/94337/review/all/13/\n",
      "https://eiga.com/movie/94337/review/all/14/\n",
      "https://eiga.com/movie/94337/review/all/15/\n",
      "https://eiga.com/movie/94337/review/all/16/\n",
      "https://eiga.com/movie/94337/review/all/17/\n",
      "https://eiga.com/movie/94337/review/all/18/\n",
      "https://eiga.com/movie/94337/review/all/19/\n",
      "https://eiga.com/movie/94337/review/all/20/\n",
      "https://eiga.com/movie/94337/review/all/21/\n",
      "https://eiga.com/movie/94337/review/all/22/\n",
      "https://eiga.com/movie/94337/review/all/23/\n"
     ]
    }
   ],
   "source": [
    "for idx, url in enumerate(urls):\n",
    "    review, num = [], []\n",
    "    \n",
    "    while(True):\n",
    "        \n",
    "        html = requests.get(url)  # HTMLを取ってくる\n",
    "        soup = BeautifulSoup(html.content, \"html.parser\")  # HTMLを解析する\n",
    "        title = soup.find(\"title\").text  # データを抽出する\n",
    "        if not title in titles:\n",
    "            titles.append(title)\n",
    "    \n",
    "        texts = soup.find_all(class_=\"txt-block\")\n",
    "        for text in texts:\n",
    "            review.append(text.text)\n",
    "        \n",
    "        star_nums = soup.find_all(class_=\"rating-star\")\n",
    "        for star in star_nums:\n",
    "            num.append(star.text)\n",
    "            \n",
    "        next_page = soup.find(class_=\"next\")\n",
    "        if next_page.get(\"href\") == None:\n",
    "            break;\n",
    "        url = target_url + str(next_page.get(\"href\"))\n",
    "        print(url)\n",
    "        time.sleep(5)\n",
    "            \n",
    "    reviews.append(review)\n",
    "    star_nums.append(num)\n",
    "    print(titles[idx] + \" のスクリプト終了!! \")"
   ]
  },
  {
   "cell_type": "code",
   "execution_count": null,
   "metadata": {},
   "outputs": [],
   "source": []
  }
 ],
 "metadata": {
  "kernelspec": {
   "display_name": "Python 3",
   "language": "python",
   "name": "python3"
  },
  "language_info": {
   "codemirror_mode": {
    "name": "ipython",
    "version": 3
   },
   "file_extension": ".py",
   "mimetype": "text/x-python",
   "name": "python",
   "nbconvert_exporter": "python",
   "pygments_lexer": "ipython3",
   "version": "3.8.5"
  }
 },
 "nbformat": 4,
 "nbformat_minor": 4
}
